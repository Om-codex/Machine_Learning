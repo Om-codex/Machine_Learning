{
 "cells": [
  {
   "cell_type": "code",
   "execution_count": 1,
   "id": "f23cd7ff",
   "metadata": {},
   "outputs": [],
   "source": [
    "from sklearn.datasets import load_diabetes\n",
    "from sklearn.metrics import r2_score\n",
    "import numpy as np"
   ]
  },
  {
   "cell_type": "code",
   "execution_count": 2,
   "id": "d789ecf0",
   "metadata": {},
   "outputs": [],
   "source": [
    "X,y = load_diabetes(return_X_y = True)"
   ]
  },
  {
   "cell_type": "code",
   "execution_count": 3,
   "id": "0a53eed7",
   "metadata": {},
   "outputs": [],
   "source": [
    "from sklearn.model_selection import train_test_split"
   ]
  },
  {
   "cell_type": "code",
   "execution_count": 4,
   "id": "98739853",
   "metadata": {},
   "outputs": [],
   "source": [
    "X_train,X_test,y_train,y_test = train_test_split(X,y, test_size = 0.2, random_state = 4)"
   ]
  },
  {
   "cell_type": "code",
   "execution_count": 5,
   "id": "803a2bbc",
   "metadata": {},
   "outputs": [],
   "source": [
    "from sklearn.linear_model import SGDRegressor"
   ]
  },
  {
   "cell_type": "code",
   "execution_count": 6,
   "id": "777de39a",
   "metadata": {},
   "outputs": [],
   "source": [
    "reg = SGDRegressor(penalty='l2',max_iter =500,eta0 = 0.1,learning_rate = 'constant',alpha = 0.001)"
   ]
  },
  {
   "cell_type": "code",
   "execution_count": 8,
   "id": "324ba4ad",
   "metadata": {},
   "outputs": [
    {
     "name": "stdout",
     "output_type": "stream",
     "text": [
      "R2_Score:  0.4340909685990533\n",
      "[  48.2453609  -142.95445431  360.90584431  268.25590856   -2.65022116\n",
      "  -56.46891748 -168.32772437  138.67840509  326.45905273  104.6374578 ]\n",
      "[144.36671017]\n"
     ]
    }
   ],
   "source": [
    "reg.fit(X_train,y_train)\n",
    "\n",
    "y_pred = reg.predict(X_test)\n",
    "print(\"R2_Score: \",r2_score(y_test,y_pred))\n",
    "print(reg.coef_)\n",
    "print(reg.intercept_)\n"
   ]
  },
  {
   "cell_type": "code",
   "execution_count": 11,
   "id": "53a68837",
   "metadata": {},
   "outputs": [],
   "source": [
    "from sklearn.linear_model import Ridge\n",
    "\n",
    "reg = Ridge(alpha = 0.001, max_iter = 500, solver = 'sparse_cg')"
   ]
  },
  {
   "cell_type": "code",
   "execution_count": 13,
   "id": "b2932340",
   "metadata": {},
   "outputs": [
    {
     "name": "stdout",
     "output_type": "stream",
     "text": [
      "R2_score:  0.46250101619914563\n",
      "[  34.52192544 -290.84084076  482.40181344  368.0678662  -852.44873179\n",
      "  501.59160336  180.11115788  270.76333979  759.73534372   37.4913546 ]\n",
      "151.10198517439466\n"
     ]
    }
   ],
   "source": [
    "reg.fit(X_train,y_train)\n",
    "y_pred = reg.predict(X_test)\n",
    "print('R2_score: ',r2_score(y_test,y_pred))\n",
    "print(reg.coef_)\n",
    "print(reg.intercept_)"
   ]
  },
  {
   "cell_type": "code",
   "execution_count": 15,
   "id": "ec76bf54",
   "metadata": {},
   "outputs": [],
   "source": [
    "class MeraRidgeGD:\n",
    "  def __init__(self,epochs, learning_rate,alpha):\n",
    "    self.learning_rate = learning_rate\n",
    "    self.epochs = epochs\n",
    "    self.alpha = alpha\n",
    "    self.coef_ = None\n",
    "    self.intercept_ = None\n",
    "\n",
    "  def fit(self,X_train,y_train):\n",
    "    self.coef_ = np.ones(X_train.shape[1])\n",
    "    self.intercept_ = 0\n",
    "    theta = np.insert(self.coef_,0,self.intercept_)\n",
    "\n",
    "    X_train = np.insert(X_train,0,1,axis = 1)\n",
    "\n",
    "    for i in range(self.epochs):\n",
    "      theta_der = np.dot(X_train.T,X_train).dot(theta) -  np.dot(X_train.T,y_train) - self.alpha * theta\n",
    "      theta = theta - self.learning_rate*theta_der\n",
    "\n",
    "    self.coef_ = theta[1:]\n",
    "    self.intercept_ = theta[0]\n",
    "\n",
    "  def predict(self,X_test):\n",
    "    return np.dot(X_test,self.coef_) + self.intercept_"
   ]
  },
  {
   "cell_type": "code",
   "execution_count": 16,
   "id": "cc09e8a7",
   "metadata": {},
   "outputs": [],
   "source": [
    "reg = MeraRidgeGD(epochs = 500,alpha = 0.001,learning_rate = 0.005)"
   ]
  },
  {
   "cell_type": "code",
   "execution_count": 17,
   "id": "bf7a2f00",
   "metadata": {},
   "outputs": [
    {
     "name": "stdout",
     "output_type": "stream",
     "text": [
      "R2_score:  0.47386561446278774\n",
      "[  46.62140947 -221.88627741  452.72916665  325.94986339  -29.28550185\n",
      "  -96.76767049 -191.05382527  146.37675246  401.31596569   95.03232584]\n",
      "150.86907936929475\n"
     ]
    }
   ],
   "source": [
    "reg.fit(X_train,y_train)\n",
    "y_pred = reg.predict(X_test)\n",
    "print('R2_score: ',r2_score(y_test,y_pred))\n",
    "print(reg.coef_)\n",
    "print(reg.intercept_)"
   ]
  },
  {
   "cell_type": "code",
   "execution_count": null,
   "id": "cf204f29",
   "metadata": {},
   "outputs": [],
   "source": [
    " "
   ]
  }
 ],
 "metadata": {
  "kernelspec": {
   "display_name": "Python 3",
   "language": "python",
   "name": "python3"
  },
  "language_info": {
   "codemirror_mode": {
    "name": "ipython",
    "version": 3
   },
   "file_extension": ".py",
   "mimetype": "text/x-python",
   "name": "python",
   "nbconvert_exporter": "python",
   "pygments_lexer": "ipython3",
   "version": "3.13.0"
  }
 },
 "nbformat": 4,
 "nbformat_minor": 5
}
