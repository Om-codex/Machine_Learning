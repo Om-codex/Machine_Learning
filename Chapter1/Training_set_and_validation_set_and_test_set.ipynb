{
 "cells": [
  {
   "cell_type": "markdown",
   "id": "3cda0729",
   "metadata": {},
   "source": [
    "### We’ll take the classic digits dataset (from sklearn) or a small synthetic dataset, then split into:\n",
    "\n",
    "### Training + Test (basic split)\n",
    "### Training + Validation + Test (to see how validation fits in)\n",
    "### And then we’ll plot them to make it crystal clear.\n",
    "\n",
    "### Step 1: Training vs Test split\n",
    "\n",
    "### Imagine we have 100 data points.\n",
    "### 80 → training (used for learning patterns)\n",
    "### 20 → test (kept aside to measure performance at the very end)\n",
    "\n",
    "### Step 2: Adding Validation\n",
    "\n",
    "### Now let’s say from the 80 training, we hold out 20 for validation:\n",
    "### 60 → training\n",
    "### 20 → validation (used to pick the best model)\n",
    "### 20 → test\n"
   ]
  },
  {
   "cell_type": "markdown",
   "id": "ebdbec7e",
   "metadata": {},
   "source": []
  }
 ],
 "metadata": {
  "language_info": {
   "name": "python"
  }
 },
 "nbformat": 4,
 "nbformat_minor": 5
}
