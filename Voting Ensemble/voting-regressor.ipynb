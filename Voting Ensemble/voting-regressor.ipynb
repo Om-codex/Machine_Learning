{
 "cells": [
  {
   "cell_type": "code",
   "execution_count": 1,
   "id": "f195b0dc",
   "metadata": {},
   "outputs": [],
   "source": [
    "from sklearn.datasets import load_diabetes\n",
    "import numpy as np"
   ]
  },
  {
   "cell_type": "code",
   "execution_count": 2,
   "metadata": {},
   "outputs": [],
   "source": [
    "X , y = load_diabetes(return_X_y = True)"
   ]
  },
  {
   "cell_type": "code",
   "execution_count": 3,
   "metadata": {},
   "outputs": [
    {
     "data": {
      "text/plain": [
       "(442, 10)"
      ]
     },
     "execution_count": 3,
     "metadata": {},
     "output_type": "execute_result"
    }
   ],
   "source": [
    "X.shape"
   ]
  },
  {
   "cell_type": "code",
   "execution_count": 4,
   "id": "7109690a",
   "metadata": {},
   "outputs": [
    {
     "data": {
      "text/plain": [
       "(442,)"
      ]
     },
     "execution_count": 4,
     "metadata": {},
     "output_type": "execute_result"
    }
   ],
   "source": [
    "y.shape"
   ]
  },
  {
   "cell_type": "code",
   "execution_count": 11,
   "id": "0b81a586",
   "metadata": {},
   "outputs": [],
   "source": [
    "from sklearn.linear_model import LinearRegression\n",
    "from sklearn.tree import DecisionTreeRegressor\n",
    "from sklearn.svm import SVR\n",
    "from sklearn.model_selection import cross_val_score\n",
    "from sklearn.ensemble import VotingRegressor"
   ]
  },
  {
   "cell_type": "code",
   "execution_count": 18,
   "id": "dd6a499b",
   "metadata": {},
   "outputs": [],
   "source": [
    "lr = LinearRegression()\n",
    "dr = DecisionTreeRegressor()\n",
    "svr = SVR()"
   ]
  },
  {
   "cell_type": "code",
   "execution_count": 19,
   "id": "f84dda77",
   "metadata": {},
   "outputs": [],
   "source": [
    "estimators = [\n",
    "  ('lr',lr),\n",
    "  ('dr',dr),\n",
    "  ('svr',svr)\n",
    "]"
   ]
  },
  {
   "cell_type": "code",
   "execution_count": 23,
   "id": "6d94088d",
   "metadata": {},
   "outputs": [
    {
     "name": "stdout",
     "output_type": "stream",
     "text": [
      "lr 0.46\n",
      "dr -0.26\n",
      "svr 0.15\n"
     ]
    }
   ],
   "source": [
    "for estimator in estimators:\n",
    "  scores = cross_val_score(estimator[1],X,y,scoring = 'r2',cv = 10)\n",
    "  print(estimator[0],np.round(np.mean(scores),2))"
   ]
  },
  {
   "cell_type": "code",
   "execution_count": 24,
   "id": "b7022722",
   "metadata": {},
   "outputs": [
    {
     "name": "stdout",
     "output_type": "stream",
     "text": [
      "Voting Regressor 0.32\n"
     ]
    }
   ],
   "source": [
    "vr = VotingRegressor(estimators)\n",
    "scores = cross_val_score(vr,X,y,scoring = 'r2',cv = 10)\n",
    "print('Voting Regressor',np.round(np.mean(scores),2))"
   ]
  },
  {
   "cell_type": "code",
   "execution_count": 25,
   "id": "05d39f2e",
   "metadata": {},
   "outputs": [
    {
     "name": "stdout",
     "output_type": "stream",
     "text": [
      "for i=1, j=1, k=1 0.34\n",
      "for i=1, j=1, k=2 0.34\n",
      "for i=1, j=1, k=3 0.33\n",
      "for i=1, j=2, k=1 0.25\n",
      "for i=1, j=2, k=2 0.29\n",
      "for i=1, j=2, k=3 0.29\n",
      "for i=1, j=3, k=1 0.18\n",
      "for i=1, j=3, k=2 0.24\n",
      "for i=1, j=3, k=3 0.28\n",
      "for i=2, j=1, k=1 0.4\n",
      "for i=2, j=1, k=2 0.38\n",
      "for i=2, j=1, k=3 0.36\n",
      "for i=2, j=2, k=1 0.34\n",
      "for i=2, j=2, k=2 0.34\n",
      "for i=2, j=2, k=3 0.33\n",
      "for i=2, j=3, k=1 0.27\n",
      "for i=2, j=3, k=2 0.29\n",
      "for i=2, j=3, k=3 0.32\n",
      "for i=3, j=1, k=1 0.43\n",
      "for i=3, j=1, k=2 0.41\n",
      "for i=3, j=1, k=3 0.39\n",
      "for i=3, j=2, k=1 0.37\n",
      "for i=3, j=2, k=2 0.38\n",
      "for i=3, j=2, k=3 0.37\n",
      "for i=3, j=3, k=1 0.34\n",
      "for i=3, j=3, k=2 0.34\n",
      "for i=3, j=3, k=3 0.34\n"
     ]
    }
   ],
   "source": [
    "for i in range(1,4):\n",
    "  for j in range(1,4):\n",
    "    for k in range(1,4):\n",
    "      vr = VotingRegressor(estimators,weights = [i,j,k])\n",
    "      scores = cross_val_score(vr , X,y, cv = 10, scoring = 'r2')\n",
    "      print('for i={}, j={}, k={}'.format(i,j,k),np.round(np.mean(scores),2))"
   ]
  },
  {
   "cell_type": "code",
   "execution_count": 27,
   "id": "aa21e429",
   "metadata": {},
   "outputs": [
    {
     "name": "stdout",
     "output_type": "stream",
     "text": [
      "dt1 0.15\n",
      "dt2 0.28\n"
     ]
    },
    {
     "name": "stdout",
     "output_type": "stream",
     "text": [
      "dt3 0.17\n",
      "dt4 -0.05\n",
      "dt5 -0.22\n"
     ]
    }
   ],
   "source": [
    "# using same algorithm\n",
    "\n",
    "\n",
    "dt1 = DecisionTreeRegressor(max_depth=1)\n",
    "dt2 = DecisionTreeRegressor(max_depth=3)\n",
    "dt3 = DecisionTreeRegressor(max_depth=5)\n",
    "dt4 = DecisionTreeRegressor(max_depth=7)\n",
    "dt5 = DecisionTreeRegressor(max_depth=None)\n",
    "\n",
    "estimators = [\n",
    "  ('dt1',dt1),\n",
    "  ('dt2',dt2),\n",
    "  ('dt3',dt3),\n",
    "  ('dt4',dt4),\n",
    "  ('dt5',dt5)\n",
    "]\n",
    "\n",
    "for estimator in estimators:\n",
    "  x = cross_val_score(estimator[1],X,y,cv = 10,scoring = 'r2')\n",
    "  print(estimator[0],np.round(np.mean(x),2))\n",
    "\n",
    "\n"
   ]
  },
  {
   "cell_type": "code",
   "execution_count": 28,
   "id": "24895b68",
   "metadata": {},
   "outputs": [
    {
     "name": "stdout",
     "output_type": "stream",
     "text": [
      "0.22\n"
     ]
    }
   ],
   "source": [
    "vr1 = VotingRegressor(estimators)\n",
    "scores = cross_val_score(vr1,X,y, cv = 10, scoring = 'r2')\n",
    "print(np.round(np.mean(scores),2))"
   ]
  },
  {
   "cell_type": "code",
   "execution_count": null,
   "id": "7dd338f5",
   "metadata": {},
   "outputs": [],
   "source": []
  }
 ],
 "metadata": {
  "kernelspec": {
   "display_name": "Python 3",
   "language": "python",
   "name": "python3"
  },
  "language_info": {
   "codemirror_mode": {
    "name": "ipython",
    "version": 3
   },
   "file_extension": ".py",
   "mimetype": "text/x-python",
   "name": "python",
   "nbconvert_exporter": "python",
   "pygments_lexer": "ipython3",
   "version": "3.13.0"
  }
 },
 "nbformat": 4,
 "nbformat_minor": 5
}
